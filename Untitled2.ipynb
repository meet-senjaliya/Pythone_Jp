{
 "cells": [
  {
   "cell_type": "markdown",
   "metadata": {},
   "source": [
    "##"
   ]
  },
  {
   "cell_type": "code",
   "execution_count": 10,
   "metadata": {},
   "outputs": [
    {
     "name": "stdout",
     "output_type": "stream",
     "text": [
      "Enter Hr8\n",
      "Enter am or pmam\n",
      "Enter hr ahead5\n",
      "1 am\n"
     ]
    }
   ],
   "source": [
    "user = int(input(\"Enter Hr\"))\n",
    "day = input(\"Enter am or pm\")\n",
    "hrahead = int(input(\"Enter hr ahead\"))\n",
    "\n",
    "if user < 1 or user > 12 or (day != 'am' and day !='pm'):\n",
    "    print(\"invalid\")\n",
    "else:\n",
    "    for i in range(1,hrahead + 1 ):\n",
    "        user += 1\n",
    "        if user>12:\n",
    "            user = 1\n",
    "        if user == 12:\n",
    "            if day == 'am':\n",
    "                day == 'pm'\n",
    "            else:\n",
    "                day = 'am'\n",
    "    if day == 'am':\n",
    "        print(user,'am')\n",
    "    else:\n",
    "        print(user , 'pm')"
   ]
  },
  {
   "cell_type": "markdown",
   "metadata": {},
   "source": [
    "## WAP 99 number as a property the sum of its digits and a product of its digit when added together Gives the same number, Find such numbers upto 10,000.\n",
    "\n",
    "### ex. 99\n",
    "### 9+9 = 18, 9*9 = 81 => 81+ 18 = 99"
   ]
  },
  {
   "cell_type": "code",
   "execution_count": 32,
   "metadata": {},
   "outputs": [
    {
     "name": "stdout",
     "output_type": "stream",
     "text": [
      "19\n",
      "29\n",
      "39\n",
      "49\n",
      "59\n",
      "69\n",
      "79\n",
      "89\n",
      "99\n"
     ]
    },
    {
     "data": {
      "text/plain": [
       "'\\n\\ndef calc(num):\\n    digitsum = 0\\n    digitprod = 1\\n    temp = num\\n    \\n    if temp == 0:\\n        return 0\\n    while temp > 0:\\n        digit = temp%10\\n        digitsum += digit\\n        digitprod *= digit\\n    return digitsum , digitprod \\n    \\ndef find numbers(limit):\\n'"
      ]
     },
     "execution_count": 32,
     "metadata": {},
     "output_type": "execute_result"
    }
   ],
   "source": [
    "for i in range (1,10001):\n",
    "    \n",
    "    digit = 0\n",
    "    sum = 0\n",
    "    mul = 1\n",
    "    temp = i\n",
    "    \n",
    "    while temp != 0:\n",
    "        rem = temp % 10\n",
    "        \n",
    "        sum = sum + rem\n",
    "        mul = mul*rem\n",
    "        temp = temp//10\n",
    "    \n",
    "    if(mul+sum == i):\n",
    "        print(i)\n",
    "\n",
    "'''\n",
    "\n",
    "def calc(num):\n",
    "    digitsum = 0\n",
    "    digitprod = 1\n",
    "    temp = num\n",
    "    \n",
    "    if temp == 0:\n",
    "        return 0\n",
    "    while temp > 0:\n",
    "        digit = temp%10\n",
    "        digitsum += digit\n",
    "        digitprod *= digit\n",
    "    return digitsum , digitprod \n",
    "    \n",
    "def findnumbers(limit):\n",
    "    for num in range(10, limit+1):\n",
    "        digitsum, digitprod = calc(sum)\n",
    "        if digitsum+digitprod == num:\n",
    "            print(num)\n",
    "findnumbers(10000)\n",
    "'''\n",
    "   "
   ]
  },
  {
   "cell_type": "markdown",
   "metadata": {},
   "source": [
    "## WAP to find numer that number mirror is same"
   ]
  },
  {
   "cell_type": "code",
   "execution_count": 35,
   "metadata": {},
   "outputs": [
    {
     "ename": "SyntaxError",
     "evalue": "unexpected EOF while parsing (<ipython-input-35-e0454f17f39c>, line 13)",
     "output_type": "error",
     "traceback": [
      "\u001b[1;36m  File \u001b[1;32m\"<ipython-input-35-e0454f17f39c>\"\u001b[1;36m, line \u001b[1;32m13\u001b[0m\n\u001b[1;33m    \u001b[0m\n\u001b[1;37m    ^\u001b[0m\n\u001b[1;31mSyntaxError\u001b[0m\u001b[1;31m:\u001b[0m unexpected EOF while parsing\n"
     ]
    }
   ],
   "source": [
    "digit = 0\n",
    "    temp = 1961\n",
    "    i = 2\n",
    "    while temp > 0:\n",
    "        digit+=1\n",
    "        temp=temp//10\n",
    "    \n",
    "    if(i == 1 or i ==0 or i == 8):\n",
    "        print(i)\n",
    "        \n",
    "    if(temp%10 == 9 and temp//10**(digit-1) == 6) or temp%10 == 1 and temp//10**(digit-1) == 1 or temp%10 == 8 and temp//10**(digit-1) == 8  :\n",
    "        while temp != 0:\n",
    "            rem = temp % 10**(digit- i)\n",
    "            i = i+1\n",
    "            \n",
    "            if(rem == 0 or rem == 1 rem == 8):\n",
    "                print()\n",
    "    "
   ]
  },
  {
   "cell_type": "code",
   "execution_count": 37,
   "metadata": {},
   "outputs": [
    {
     "name": "stdout",
     "output_type": "stream",
     "text": [
      "0\n",
      "1\n",
      "8\n",
      "11\n",
      "69\n",
      "88\n",
      "96\n",
      "101\n",
      "111\n",
      "181\n",
      "609\n",
      "619\n",
      "689\n",
      "808\n",
      "818\n",
      "888\n",
      "906\n",
      "916\n",
      "986\n"
     ]
    }
   ],
   "source": [
    "def upside(digit):\n",
    "    if digit == 0: return 0\n",
    "    elif digit == 9: return 6\n",
    "    elif digit == 6: return 9\n",
    "    elif digit == 1: return 1\n",
    "    elif digit == 8: return 8\n",
    "    else: return 1\n",
    "    \n",
    "def is_upside(num):\n",
    "    original = num\n",
    "    flipped = 0\n",
    "    power10 = 1\n",
    "    while num > 0:\n",
    "        digit = num%10\n",
    "        flipdigit = upside(digit)\n",
    "        if flipdigit == -1: return False\n",
    "        flipped = flipped*10 + flipdigit\n",
    "        num //=10\n",
    "    return flipped == original\n",
    "\n",
    "for num in range (1000):\n",
    "    if is_upside(num):\n",
    "        print(num)\n",
    "    \n",
    "    \n",
    "    "
   ]
  },
  {
   "cell_type": "code",
   "execution_count": null,
   "metadata": {},
   "outputs": [],
   "source": []
  }
 ],
 "metadata": {
  "kernelspec": {
   "display_name": "Python 3",
   "language": "python",
   "name": "python3"
  },
  "language_info": {
   "codemirror_mode": {
    "name": "ipython",
    "version": 3
   },
   "file_extension": ".py",
   "mimetype": "text/x-python",
   "name": "python",
   "nbconvert_exporter": "python",
   "pygments_lexer": "ipython3",
   "version": "3.8.5"
  }
 },
 "nbformat": 4,
 "nbformat_minor": 4
}
