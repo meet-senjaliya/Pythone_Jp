{
 "cells": [
  {
   "cell_type": "markdown",
   "metadata": {},
   "source": [
    "## *\n",
    "## * *\n",
    "## * * *\n",
    "## * * * *\n",
    "### Print his Pattern"
   ]
  },
  {
   "cell_type": "code",
   "execution_count": 8,
   "metadata": {},
   "outputs": [
    {
     "name": "stdout",
     "output_type": "stream",
     "text": [
      "* \n",
      "* * \n",
      "* * * \n",
      "* * * * \n"
     ]
    }
   ],
   "source": [
    "for i in range(1,5):\n",
    "    for j in range (1,i+1):\n",
    "        print(\"*\", end = \" \")\n",
    "    print(\"\")"
   ]
  },
  {
   "cell_type": "code",
   "execution_count": 14,
   "metadata": {},
   "outputs": [
    {
     "name": "stdout",
     "output_type": "stream",
     "text": [
      "\n",
      "A \n",
      "B C \n",
      "D E F \n",
      "G H I J \n"
     ]
    }
   ],
   "source": [
    "k = 65\n",
    "\n",
    "for i in range (5):\n",
    "    \n",
    "    for j in range(1,i+1):\n",
    "        print(chr(k), end=\" \")\n",
    "        k += 1\n",
    "    print()"
   ]
  },
  {
   "cell_type": "code",
   "execution_count": 33,
   "metadata": {},
   "outputs": [
    {
     "name": "stdout",
     "output_type": "stream",
     "text": [
      "        *          \n",
      "      *   *        \n",
      "    * * * * *      \n",
      "  *           *    \n",
      "*               *  \n"
     ]
    }
   ],
   "source": [
    "for i in range(0,5):\n",
    "    for j in range(0,9):\n",
    "        if((i==4 and j==0) or (i==3 and j==1) or (i==2 and j==2) or (i==1 and j==3) or (i==0 and j==4) or (i==2 and j==3) or (i==2 and j==4) or (i==2 and j==5) or (i==2 and j==6) or (i==1 and j==5) or (i==3 and j==7) or (i==4 and j==8)):\n",
    "            print(\"*\",end=\" \")\n",
    "        else: \n",
    "            print(\" \",end=\" \")\n",
    "    print(\" \") \n"
   ]
  },
  {
   "cell_type": "code",
   "execution_count": null,
   "metadata": {},
   "outputs": [],
   "source": []
  }
 ],
 "metadata": {
  "kernelspec": {
   "display_name": "Python 3",
   "language": "python",
   "name": "python3"
  },
  "language_info": {
   "codemirror_mode": {
    "name": "ipython",
    "version": 3
   },
   "file_extension": ".py",
   "mimetype": "text/x-python",
   "name": "python",
   "nbconvert_exporter": "python",
   "pygments_lexer": "ipython3",
   "version": "3.8.5"
  }
 },
 "nbformat": 4,
 "nbformat_minor": 4
}
