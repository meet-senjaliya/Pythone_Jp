{
 "cells": [
  {
   "cell_type": "code",
   "execution_count": 30,
   "metadata": {
    "scrolled": true
   },
   "outputs": [
    {
     "name": "stdout",
     "output_type": "stream",
     "text": [
      "923456781\n"
     ]
    }
   ],
   "source": [
    "x = 123456789\n",
    "temp = x\n",
    "temp1 = x\n",
    "y = x % 10\n",
    "digit = 0\n",
    "\n",
    "while temp1!=0:\n",
    "    digit = digit + 1\n",
    "    temp1 = temp1//10\n",
    "    \n",
    "while x >1  :\n",
    "    x= x//10\n",
    "    z = x\n",
    "    \n",
    "num = temp // 10\n",
    "num = num*10 + z\n",
    "num1 = num % 10**(digit-1)\n",
    "num1 = y * 10**(digit-1)+num1\n",
    "\n",
    "print(num1)\n",
    "\n"
   ]
  },
  {
   "cell_type": "code",
   "execution_count": null,
   "metadata": {},
   "outputs": [],
   "source": [
    "\n"
   ]
  }
 ],
 "metadata": {
  "kernelspec": {
   "display_name": "Python 3",
   "language": "python",
   "name": "python3"
  },
  "language_info": {
   "codemirror_mode": {
    "name": "ipython",
    "version": 3
   },
   "file_extension": ".py",
   "mimetype": "text/x-python",
   "name": "python",
   "nbconvert_exporter": "python",
   "pygments_lexer": "ipython3",
   "version": "3.8.5"
  }
 },
 "nbformat": 4,
 "nbformat_minor": 4
}
